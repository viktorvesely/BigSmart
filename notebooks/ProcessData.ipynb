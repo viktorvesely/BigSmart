{
 "cells": [
  {
   "cell_type": "code",
   "execution_count": 7,
   "metadata": {},
   "outputs": [],
   "source": [
    "import pandas as pd\n",
    "import numpy as np\n"
   ]
  },
  {
   "cell_type": "code",
   "execution_count": 21,
   "metadata": {
    "tags": []
   },
   "outputs": [
    {
     "output_type": "execute_result",
     "data": {
      "text/plain": "                             text         intent\n0                     Povedz vtip      tell_joke\n1    10d10m piseme z informatiky.  reminder_time\n2          11.8. piseme z chemie.  reminder_time\n3      12d12m mame test z chemie.  reminder_time\n4         12d3m piseme z nemciny.  reminder_time\n..                            ...            ...\n480                        zastav  cancel_intent\n481                          zrus  cancel_intent\n482                       zrus to  cancel_intent\n483                     |Zažartuj      tell_joke\n484         Čo je zmyslom života?   life_meaning\n\n[485 rows x 2 columns]",
      "text/html": "<div>\n<style scoped>\n    .dataframe tbody tr th:only-of-type {\n        vertical-align: middle;\n    }\n\n    .dataframe tbody tr th {\n        vertical-align: top;\n    }\n\n    .dataframe thead th {\n        text-align: right;\n    }\n</style>\n<table border=\"1\" class=\"dataframe\">\n  <thead>\n    <tr style=\"text-align: right;\">\n      <th></th>\n      <th>text</th>\n      <th>intent</th>\n    </tr>\n  </thead>\n  <tbody>\n    <tr>\n      <th>0</th>\n      <td>Povedz vtip</td>\n      <td>tell_joke</td>\n    </tr>\n    <tr>\n      <th>1</th>\n      <td>10d10m piseme z informatiky.</td>\n      <td>reminder_time</td>\n    </tr>\n    <tr>\n      <th>2</th>\n      <td>11.8. piseme z chemie.</td>\n      <td>reminder_time</td>\n    </tr>\n    <tr>\n      <th>3</th>\n      <td>12d12m mame test z chemie.</td>\n      <td>reminder_time</td>\n    </tr>\n    <tr>\n      <th>4</th>\n      <td>12d3m piseme z nemciny.</td>\n      <td>reminder_time</td>\n    </tr>\n    <tr>\n      <th>...</th>\n      <td>...</td>\n      <td>...</td>\n    </tr>\n    <tr>\n      <th>480</th>\n      <td>zastav</td>\n      <td>cancel_intent</td>\n    </tr>\n    <tr>\n      <th>481</th>\n      <td>zrus</td>\n      <td>cancel_intent</td>\n    </tr>\n    <tr>\n      <th>482</th>\n      <td>zrus to</td>\n      <td>cancel_intent</td>\n    </tr>\n    <tr>\n      <th>483</th>\n      <td>|Zažartuj</td>\n      <td>tell_joke</td>\n    </tr>\n    <tr>\n      <th>484</th>\n      <td>Čo je zmyslom života?</td>\n      <td>life_meaning</td>\n    </tr>\n  </tbody>\n</table>\n<p>485 rows × 2 columns</p>\n</div>"
     },
     "metadata": {},
     "execution_count": 21
    }
   ],
   "source": [
    "import json\n",
    "\n",
    "PATH_TO_WIT = \"../data/wit/utterances-1.json\"\n",
    "\n",
    "database = {\n",
    "    \"text\": [],\n",
    "    \"intent\": []\n",
    "}\n",
    "\n",
    "df = None\n",
    "\n",
    "def load_data():\n",
    "    with open(PATH_TO_WIT) as f:\n",
    "        data = json.load(f)\n",
    "        utterances = data[\"utterances\"]\n",
    "        for utterance in utterances:\n",
    "            if \"intent\" not in utterance:\n",
    "                continue \n",
    "            intent = utterance[\"intent\"]\n",
    "            text = utterance[\"text\"]\n",
    "            database[\"text\"].append(text)\n",
    "            database[\"intent\"].append(intent)\n",
    "    return pd.DataFrame.from_dict(database)\n",
    "\n",
    "df = load_data()\n"
   ]
  },
  {
   "cell_type": "code",
   "execution_count": 35,
   "metadata": {
    "tags": []
   },
   "outputs": [],
   "source": [
    "def features():\n",
    "    i = df[\"intent\"]\n",
    "    f = [row[\"text\"].split(\" \") for _,row in df.iterrows()]\n",
    "    df_features = pd.DataFrame({\"intent\": i})\n",
    "    df_features[\"features\"] = f\n",
    "    df_features[\"text\"] = df[\"text\"]\n",
    "    return df_features\n",
    "\n",
    "df = features()\n",
    "sent = [row for row in df[\"features\"]]\n",
    "    "
   ]
  },
  {
   "cell_type": "code",
   "execution_count": 39,
   "metadata": {},
   "outputs": [],
   "source": [
    "from gensim.models import Word2Vec\n",
    "model = Word2Vec(sent, min_count=1,size= 100,workers=3, window =3, sg = 1)"
   ]
  },
  {
   "cell_type": "code",
   "execution_count": 45,
   "metadata": {},
   "outputs": [
    {
     "output_type": "execute_result",
     "data": {
      "text/plain": "[('oblubena?', 0.2866712808609009),\n ('hudba', 0.2718808054924011),\n ('zajacova?', 0.25610077381134033),\n ('8d11m', 0.2252335548400879),\n ('on', 0.2120354175567627),\n ('pici', 0.21112272143363953),\n ('to', 0.20833900570869446),\n ('ze', 0.20126380026340485),\n ('notifikacie', 0.2009323239326477),\n ('ekonomii', 0.20053479075431824)]"
     },
     "metadata": {},
     "execution_count": 45
    }
   ],
   "source": [
    "model.most_similar(\"kabinet\")"
   ]
  },
  {
   "cell_type": "code",
   "execution_count": null,
   "metadata": {},
   "outputs": [],
   "source": []
  }
 ],
 "metadata": {
  "language_info": {
   "codemirror_mode": {
    "name": "ipython",
    "version": 3
   },
   "file_extension": ".py",
   "mimetype": "text/x-python",
   "name": "python",
   "nbconvert_exporter": "python",
   "pygments_lexer": "ipython3",
   "version": 3
  },
  "orig_nbformat": 2,
  "kernelspec": {
   "name": "python_defaultSpec_1594634863632",
   "display_name": "Python 3.7.4 64-bit"
  }
 },
 "nbformat": 4,
 "nbformat_minor": 2
}